{
 "cells": [
  {
   "cell_type": "markdown",
   "metadata": {},
   "source": [
    "# TOÁN ỨNG DỤNG VÀ THỐNG KÊ\n",
    "\n",
    "## Đồ án cuối kì\n",
    "\n",
    "---\n",
    "\n",
    "**Thông Tin Sinh Viên**\n",
    "- Lớp: CQ2022/3\n",
    "- Họ và tên: Trương Tiến Anh\n",
    "- MSSV: 22120017"
   ]
  },
  {
   "cell_type": "code",
   "execution_count": 5,
   "metadata": {},
   "outputs": [],
   "source": [
    "import numpy as np\n",
    "import pandas as pd\n",
    "from sklearn.model_selection import KFold\n",
    "from sklearn import linear_model"
   ]
  },
  {
   "cell_type": "markdown",
   "metadata": {},
   "source": [
    "# **Xây dựng mô hình**"
   ]
  },
  {
   "cell_type": "markdown",
   "metadata": {},
   "source": [
    "### **Linear Regression**"
   ]
  },
  {
   "cell_type": "code",
   "execution_count": 9,
   "metadata": {},
   "outputs": [],
   "source": [
    "# Linear regression\n",
    "def linear_regression(features, target, fit_intercept=True):\n",
    "    try:\n",
    "        model = linear_model.LinearRegression(fit_intercept=fit_intercept).fit(features, target)\n",
    "        return model.coef_, model.intercept_\n",
    "    except Exception as e:\n",
    "        print(f\"An error occurred: {e}\")\n",
    "        return None, None"
   ]
  },
  {
   "cell_type": "markdown",
   "metadata": {},
   "source": [
    "### Ý tưởng\n",
    "##### Giới thiệu\n",
    "\n",
    "* **Xây dựng mô hình đơn giản theo công thức: $Ax = b$**\n",
    "  * $A$ là ma trận dữ liệu (các tính chất của rượu)\n",
    "  * $b$ là nhãn (label) của mỗi dòng dữ liệu trong ma trận $A$, được thể hiện dưới dạng đánh giá thống kê\n",
    "\n",
    "##### Công thức mô hình\n",
    "\n",
    "* **Với mô hình trên, ta có thể tìm mô hình theo công thức:**\n",
    "  $\\hat{x}=A^\\dagger\\cdot b$\n",
    "  * Khi đó, mô hình sẽ đi qua gốc tọa độ của đồ thị, điều này dẫn đến sự hạn chế.\n",
    "  * Do đó, chúng ta chọn mô hình theo công thức sau:\n",
    "  \\[Ax + b_0 = b\\]\n",
    "  * Với công thức này, mô hình có thể dịch chuyển trên trục tung, tăng sự linh hoạt.\n",
    "\n",
    "##### Sử dụng `sklearn` để xây dựng mô hình\n",
    "\n",
    "* Bộ thư viện `sklearn` cung cấp công cụ để dựng mô hình hồi quy tuyến tính với công thức đã chọn:\n",
    "  * Sau khi fit các tham số bao gồm \\(A\\) và \\(b\\) vào mô hình, các thuộc tính quan trọng của mô hình Linear Regression được sinh ra, bao gồm:\n",
    "    * `coef_`: \\(\\hat{x}\\)\n",
    "    * `intercept_`: \\(b_0\\)\n",
    "  * Gán các giá trị này vào công thức, ta được mô hình hồi quy tuyến tính cần tìm.\n",
    "\n"
   ]
  },
  {
   "cell_type": "markdown",
   "metadata": {},
   "source": [
    "### **Cross Validation**"
   ]
  },
  {
   "cell_type": "code",
   "execution_count": 10,
   "metadata": {},
   "outputs": [],
   "source": [
    "# Cross Validation\n",
    "def cross_validation(features, target, k_folds):\n",
    "    kf = KFold(n_splits=k_folds)\n",
    "    error_list = []\n",
    "\n",
    "    for train_indices, test_indices in kf.split(features):\n",
    "        features_train, features_test = features[train_indices], features[test_indices]\n",
    "        target_train, target_test = target[train_indices], target[test_indices]\n",
    "        coefficients, intercept = linear_regression(features_train, target_train)\n",
    "        \n",
    "        if coefficients is None or intercept is None:\n",
    "            print(\"An error occurred during model training.\")\n",
    "            return None\n",
    "        \n",
    "        predictions = np.dot(features_test, coefficients) + intercept\n",
    "        error = np.mean(np.abs(target_test - predictions))\n",
    "        error_list.append(error)\n",
    "\n",
    "    return np.mean(error_list)"
   ]
  },
  {
   "cell_type": "markdown",
   "metadata": {},
   "source": [
    "### Ý tưởng\n",
    "##### Giới thiệu\n",
    "* **K-Fold Cross-validation** là một kỹ thuật dùng để đánh giá hiệu quả của mô hình trên tập dữ liệu.\n",
    "  * **Xáo trộn dữ liệu** (tùy chọn)\n",
    "  * **Chia dataset thành k nhóm** (folds)\n",
    "  * **Quy trình thực hiện với mỗi nhóm**:\n",
    "    1. Sử dụng nhóm hiện tại để đánh giá hiệu quả mô hình.\n",
    "    2. Các nhóm còn lại được sử dụng để huấn luyện mô hình.\n",
    "    3. Huấn luyện mô hình trên tập train.\n",
    "    4. Đánh giá mô hình trên tập test.\n",
    "  * **Tổng hợp hiệu quả qua các đánh giá**.\n",
    "##### Sử dụng `sklearn` cho K-Fold Cross-validation\n",
    "* Bộ thư viện `sklearn` cung cấp hàm `sklearn.model_selection.KFold` để tự động chia tập dữ liệu thành \\(k\\) nhóm và `split` thành các bộ dữ liệu train/test khác nhau.\n",
    "  * **Quy trình chi tiết**:\n",
    "    1. **Xây dựng mô hình** trên tập train, ta được các tham số $\\hat{x}$, $b_0$\n",
    "    2. **Áp dụng mô hình lên tập test**: $A_{test}\\cdot \\hat{x}=b'$\n",
    "    3. **Tính sai số** so với nhãn của tập test: $|b'-b_{test}|$. Kết quả này là một ma trận có shape giống  $b_{test}$. Tính trung bình của ma trận này để được sai số của mô hình trên tập train/test đó.\n",
    "    4. **Lặp lại cho tất cả các tập train/test** được split ra ở trên, sau đó tính trung bình các sai số này để được sai số trung bình của mô hình dựa trên phương pháp Cross Validation.\n",
    "  * **Số \\(k\\) được chọn cho K-Fold thường là 10**."
   ]
  },
  {
   "cell_type": "markdown",
   "metadata": {},
   "source": [
    "### **Đọc File CSV**\n",
    "* Tách dữ liệu đọc từ `NHANES_age_prediction.csv` thành bộ dữ liệu và bộ label"
   ]
  },
  {
   "cell_type": "code",
   "execution_count": 7,
   "metadata": {},
   "outputs": [
    {
     "name": "stdout",
     "output_type": "stream",
     "text": [
      "Features (Đặc trưng):\n",
      "[[ 61.     2.     2.   ... 110.   150.    14.91]\n",
      " [ 26.     2.     2.   ...  89.    80.     3.85]\n",
      " [ 16.     1.     2.   ...  89.    68.     6.14]\n",
      " ...\n",
      " [ 34.     1.     2.   ... 103.   124.    21.41]\n",
      " [ 60.     2.     2.   ...  90.   108.     4.99]\n",
      " [ 26.     1.     2.   ... 108.   108.     3.76]]\n",
      "\n",
      "Target (Nhãn):\n",
      "[2. 2. 2. ... 2. 2. 2.]\n",
      "\n",
      "Labels (Tên các cột đặc trưng):\n",
      "Index(['RIDAGEYR', 'RIAGENDR', 'PAQ605', 'BMXBMI', 'LBXGLU', 'LBXGLT',\n",
      "       'LBXIN'],\n",
      "      dtype='object')\n"
     ]
    }
   ],
   "source": [
    "\n",
    "# Đọc file CSV\n",
    "df = pd.read_csv('NHANES_age_prediction.csv')\n",
    "\n",
    "# Bỏ qua các cột \"SEQN\" và \"age_group\"\n",
    "df = df.drop(columns=['SEQN', 'age_group'])\n",
    "\n",
    "# Chuẩn bị dữ liệu\n",
    "features = df.drop(columns=['DIQ010']).to_numpy()  # Sử dụng tất cả các cột ngoại trừ cột \"DIQ010\"\n",
    "target = df['DIQ010'].to_numpy()                   # Sử dụng cột \"DIQ010\" làm nhãn\n",
    "labels = df.drop(columns=['DIQ010']).columns       # Lấy tên các cột đặc trưng\n",
    "\n",
    "print(\"Features (Đặc trưng):\")\n",
    "print(features)\n",
    "print(\"\\nTarget (Nhãn):\")\n",
    "print(target)\n",
    "print(\"\\nLabels (Tên các cột đặc trưng):\")\n",
    "print(labels)"
   ]
  },
  {
   "cell_type": "markdown",
   "metadata": {},
   "source": [
    "# **Xây dựng mô hình dự báo bệnh tiểu đường (biến \"DIQ010\") bằng phương pháp hồi quy tuyến tính**"
   ]
  },
  {
   "cell_type": "markdown",
   "metadata": {},
   "source": [
    "### **Câu a. Sử dụng bộ 7 đặc trưng đề bài cung cấp.**"
   ]
  },
  {
   "cell_type": "code",
   "execution_count": 11,
   "metadata": {},
   "outputs": [
    {
     "name": "stdout",
     "output_type": "stream",
     "text": [
      "Model Coefficients:\n",
      "Feature 1: 0.000583\n",
      "Feature 2: -0.014352\n",
      "Feature 3: 0.000453\n",
      "Feature 4: 0.000315\n",
      "Feature 5: -0.000440\n",
      "Feature 6: 0.000011\n",
      "Feature 7: 0.001255\n",
      "Intercept: 2.031667\n",
      "Cross-Validation Error (10-fold): 0.052440\n"
     ]
    }
   ],
   "source": [
    "\n",
    "coefficients, intercept = linear_regression(features, target)\n",
    "cv_error = cross_validation(features, target, k_folds=10)\n",
    "\n",
    "# In kết quả\n",
    "coefficients_str = \"\\n\".join([f\"Feature {i+1}: {coef:.6f}\" for i, coef in enumerate(coefficients)])\n",
    "print(\"Model Coefficients:\\n\" + coefficients_str)\n",
    "print(f\"Intercept: {intercept:.6f}\")\n",
    "print(f\"Cross-Validation Error (10-fold): {cv_error:.6f}\")"
   ]
  },
  {
   "cell_type": "markdown",
   "metadata": {},
   "source": [
    "### Ý tưởng\n",
    "* Dùng `linear_regression()` đã cài đặt để tìm model trên tất cả các tính chất"
   ]
  },
  {
   "cell_type": "markdown",
   "metadata": {},
   "source": [
    "### **Câu b. Sử dụng duy nhất 1 đặc trưng cho kết quả tốt nhất. (Dùng phương pháp Cross Validation)**"
   ]
  },
  {
   "cell_type": "code",
   "execution_count": 12,
   "metadata": {},
   "outputs": [],
   "source": [
    "# Choose best property\n",
    "def choose_best_property(X, y):\n",
    "    cross_val_errors = []\n",
    "\n",
    "    for feature_index in range(X.shape[1]):\n",
    "        cross_val_error = cross_validation(X[:, feature_index:feature_index + 1], y, k_folds=10)\n",
    "        if cross_val_error is not None:\n",
    "            cross_val_errors.append(cross_val_error)\n",
    "        else:\n",
    "            cross_val_errors.append(np.inf)  # Nếu có lỗi, gán giá trị lỗi rất lớn để không chọn đặc trưng này\n",
    "    \n",
    "    best_property_index = np.argmin(cross_val_errors)\n",
    "    return cross_val_errors, best_property_index"
   ]
  },
  {
   "cell_type": "code",
   "execution_count": 13,
   "metadata": {},
   "outputs": [
    {
     "name": "stdout",
     "output_type": "stream",
     "text": [
      "\n",
      "=== Best Property Selection ===\n",
      "Best property: RIDAGEYR\n",
      "\n",
      "=== Model ===\n",
      "Model: y = 0.000460 * x + 1.997015\n",
      "\n",
      "=== Cross-Validation Error ===\n",
      "Cross-Validation Error: 0.049779\n",
      "\n"
     ]
    }
   ],
   "source": [
    "error_list, best_index = choose_best_property(features, target)\n",
    "\n",
    "# Xây dựng mô hình với tính chất tốt nhất\n",
    "best_feature = features[:, best_index:best_index + 1]\n",
    "coefficients, intercept = linear_regression(best_feature, target)\n",
    "\n",
    "# In kết quả\n",
    "print(\"\\n=== Best Property Selection ===\")\n",
    "print(f\"Best property: {labels[best_index]}\")\n",
    "print(\"\\n=== Model ===\")\n",
    "print(f\"Model: y = {coefficients[0]:.6f} * x + {intercept:.6f}\")\n",
    "print(\"\\n=== Cross-Validation Error ===\")\n",
    "print(f\"Cross-Validation Error: {error_list[best_index]:.6f}\\n\")"
   ]
  },
  {
   "cell_type": "markdown",
   "metadata": {},
   "source": [
    "### Ý tưởng\n",
    "* Đối với từng cột (tính chất), chạy hàm `cross_validation()` để tìm sai số của mô hình dựa trên mỗi tính chất.\n",
    "\n",
    "* Tìm tính chất có sai số bé nhất để xác định tính chất tốt nhất.\n",
    "\n",
    "* Chạy `linear_regression()` để tìm mô hình dựa trên tính chất tốt nhất này."
   ]
  },
  {
   "cell_type": "markdown",
   "metadata": {},
   "source": [
    "### **Câu c. Xây dựng một mô hình của riêng bạn cho kết quả tốt nhất**"
   ]
  },
  {
   "cell_type": "code",
   "execution_count": 14,
   "metadata": {},
   "outputs": [],
   "source": [
    "# Build model\n",
    "def build_model(X, y, error_list, max_features):\n",
    "    sorted_error_indices = np.argsort(error_list)\n",
    "    full_error = cross_validation(X, y, k_folds=10)\n",
    "\n",
    "    abs_error_list = []\n",
    "    cv_error_list = []\n",
    "    selected_features_list = []\n",
    "\n",
    "    for num_features in range(2, max_features - 1):\n",
    "        selected_features = sorted_error_indices[:num_features]\n",
    "        X_selected = X[:, selected_features]\n",
    "        cv_error = cross_validation(X_selected, y, k_folds=10)\n",
    "        \n",
    "        if cv_error is not None:\n",
    "            cv_error_list.append(cv_error)\n",
    "            abs_error_list.append(np.abs(full_error - cv_error))\n",
    "            selected_features_list.append(selected_features)\n",
    "        else:\n",
    "            cv_error_list.append(np.inf)\n",
    "            abs_error_list.append(np.inf)\n",
    "            selected_features_list.append(selected_features)\n",
    "    \n",
    "    best_model_index = np.argmin(abs_error_list)\n",
    "    return cv_error_list, selected_features_list, best_model_index"
   ]
  },
  {
   "cell_type": "code",
   "execution_count": 15,
   "metadata": {},
   "outputs": [
    {
     "name": "stdout",
     "output_type": "stream",
     "text": [
      "\n",
      "=== Model Building with Top Features ===\n",
      "Best properties:\n",
      "1. RIDAGEYR\n",
      "2. LBXIN\n",
      "3. BMXBMI\n",
      "4. PAQ605\n",
      "5. RIAGENDR\n",
      "\n",
      "Model:\n",
      "A[ 0.00049905  0.00111593  0.00022985  0.00035016 -0.01218377] + 1.993528452915252 = b\n",
      "\n",
      "Cross-Validation Error: 0.051283847762980804\n"
     ]
    }
   ],
   "source": [
    "cv_error_list, prop_list, best_index_prop = build_model(features, target, error_list, len(labels))\n",
    "\n",
    "# Xây dựng mô hình với top x tính chất tốt nhất\n",
    "best_properties = features[:, prop_list[best_index_prop]]\n",
    "coefficients, intercept = linear_regression(best_properties, target)\n",
    "\n",
    "# In kết quả\n",
    "print(\"\\n=== Model Building with Top Features ===\")\n",
    "print(\"Best properties:\")\n",
    "for i, prop in enumerate(labels[prop_list[best_index_prop]], start=1):\n",
    "    print(f\"{i}. {prop}\")\n",
    "\n",
    "print(\"\\nModel:\")\n",
    "print(f\"A{coefficients} + {intercept} = b\")\n",
    "\n",
    "print(\"\\nCross-Validation Error:\", cv_error_list[best_index_prop])"
   ]
  },
  {
   "cell_type": "markdown",
   "metadata": {},
   "source": [
    "### Ý tưởng\n",
    "* Chọn ra n tính chất tốt nhất (cho n chạy từ 2 đến 10) rồi chạy `cross_validation()`\n",
    "\n",
    "* Chọn ra bộ tính chất tốt nhất (sai số thấp nhất), các tính chất sẽ được chọn để dựng mô hình\n",
    "\n",
    "* Chạy `linear_regression()` để tìm model dựa trên các tính chất này\n",
    "\n",
    "* Kết quả của mô hình tự xây dựng và của mô hình 7 tính chất:\n",
    "\n",
    "    * Mô hình tự xây dựng: 0.051284\n",
    "    * Mô hình 7 tính chất: 0.052440"
   ]
  }
 ],
 "metadata": {
  "kernelspec": {
   "display_name": "Python 3",
   "language": "python",
   "name": "python3"
  },
  "language_info": {
   "codemirror_mode": {
    "name": "ipython",
    "version": 3
   },
   "file_extension": ".py",
   "mimetype": "text/x-python",
   "name": "python",
   "nbconvert_exporter": "python",
   "pygments_lexer": "ipython3",
   "version": "3.11.8"
  }
 },
 "nbformat": 4,
 "nbformat_minor": 2
}
