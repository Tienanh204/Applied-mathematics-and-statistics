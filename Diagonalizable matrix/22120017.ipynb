{
 "cells": [
  {
   "cell_type": "markdown",
   "metadata": {},
   "source": [
    "# TOÁN ỨNG DỤNG VÀ THỐNG KÊ\n",
    "\n",
    "## Diagonalizable matrix\n",
    "\n",
    "---\n",
    "\n",
    "**Thông Tin Sinh Viên**\n",
    "- MSSV: 22120017\n",
    "- Họ tên: Trương Tiến Anh\n",
    "- Lớp: Chiều thứ 7"
   ]
  },
  {
   "cell_type": "markdown",
   "metadata": {},
   "source": [
    "## Giải thuật Diagonalizable matrix (A)\n",
    "1. Giải phương trinh đặc trưng det(A−λI)=0 tìm các giá trị riêng của A\n",
    "2. Ứng với mỗi giá trị riêng, tìm một cơ sở cho không gian riêng Vλ\n",
    "3. Xét hệ B' gồm tát cả các vector riêng tạo thành cơ sở cho các không gian riêng nhận được ở Bước 2\n",
    "- Nếu số phần tử B' bằng n (tức: dim(Vλ)=n) thì A chéo hóa được. Ma trận P chéo hóa ma trận A chính là ma trận đổi cơ sở chính tắc từ B sang B'\n",
    "- Nếu số phần tử của B' < n, nghĩa là sigma(dimVλ) < n thì A không chéo hóa được\n",
    "4. Ma trận làm chéo hóa A cần tìm là ma trận P có các cột là các vector riêng tìm được\n"
   ]
  },
  {
   "cell_type": "markdown",
   "metadata": {},
   "source": [
    "## Bài 1) Cho A là ma trận có thể chéo hóa được. Sinh viên viết chương trình tìm ma trận chéo P, P-1 và ma trận đường chéo D, biết rằng A = PDP-1. "
   ]
  },
  {
   "cell_type": "code",
   "execution_count": 1,
   "metadata": {},
   "outputs": [],
   "source": [
    "import numpy as np"
   ]
  },
  {
   "cell_type": "code",
   "execution_count": 9,
   "metadata": {},
   "outputs": [
    {
     "name": "stdout",
     "output_type": "stream",
     "text": [
      "Nhập ma trận A[3x3]:\n",
      "Ma trận A:\n",
      "[[ 3. -2.  0.]\n",
      " [-2.  3.  0.]\n",
      " [ 0.  0.  5.]]\n",
      "Ma trận chéo P:\n",
      "[[-5.03291999e-01 -4.96684630e-01  7.07112232e-01]\n",
      " [ 5.03293636e-01  4.96686075e-01  7.07101330e-01]\n",
      " [ 7.02419162e-01 -7.11763529e-01 -4.30630134e-07]]\n",
      "Ma trận đường chéo D:\n",
      "[[5. 0. 0.]\n",
      " [0. 5. 0.]\n",
      " [0. 0. 1.]]\n",
      "Ma trận nghịch đảo P_inv:\n",
      "[[-5.03288724e-01  5.03296911e-01  7.02419162e-01]\n",
      " [-4.96681741e-01  4.96688965e-01 -7.11763529e-01]\n",
      " [ 7.07107871e-01  7.07105691e-01 -8.61260269e-08]]\n",
      "Ma trận A khôi phục từ P, D, và P_inv:\n",
      "[[ 2.99998150e+00 -2.00001233e+00  2.43603489e-07]\n",
      " [-1.99998767e+00  3.00001850e+00  2.43598892e-07]\n",
      " [ 1.21800825e-06  1.21800366e-06  5.00000000e+00]]\n"
     ]
    }
   ],
   "source": [
    "\n",
    "def eigen_power_iteration(A, n_iter=1000, eps=1e-5):\n",
    "    # Khởi tạo vector ngẫu nhiên\n",
    "    b_k = np.random.rand(A.shape[1])\n",
    "    b_k_pre = np.zeros(A.shape[1])\n",
    "\n",
    "    # Tìm vector riêng\n",
    "    for _ in range(int(n_iter)):\n",
    "        # Tính tích ma trận theo vector riêng\n",
    "        numerator = np.dot(A, b_k)\n",
    "        denominator = np.linalg.norm(numerator)\n",
    "        \n",
    "        b_k = numerator / denominator\n",
    "        \n",
    "        # Dừng khi sự thay đổi của vector trước và vector sau không đáng kể\n",
    "        if np.all(np.abs(b_k - b_k_pre) < eps):\n",
    "            break\n",
    "        \n",
    "        b_k_pre = b_k\n",
    "        \n",
    "    # Tìm trị riêng (Rayleigh quotient iteration)\n",
    "    lamb = ((b_k @ A) @ b_k) / (b_k @ b_k)\n",
    "\n",
    "    return lamb, b_k\n",
    "\n",
    "def my_eigens(A, n_iter=1000, eps=1e-5):\n",
    "    eigenvalues = []\n",
    "    eigenvectors = []\n",
    "    \n",
    "    n_rows = A.shape[0]\n",
    "    \n",
    "    for _ in range(n_rows):\n",
    "        lamb, b_k = eigen_power_iteration(A, n_iter, eps)\n",
    "        \n",
    "        eigenvalues.append(lamb)\n",
    "        eigenvectors.append(b_k)\n",
    "        \n",
    "        # Hotelling’s deflation\n",
    "        b_k = b_k.reshape(n_rows, -1)\n",
    "        A = A - (lamb / np.square(np.linalg.norm(b_k))) * (b_k @ b_k.T)\n",
    "        \n",
    "    return np.array(eigenvalues), np.array(eigenvectors).T\n",
    "\n",
    "def matrix_diag_from_power_iteration(A):\n",
    "    # Sử dụng thuật toán Power Iteration để tìm trị riêng và vector riêng\n",
    "    eigenvalues, eigenvectors = my_eigens(A)\n",
    "    \n",
    "    P_matrix = eigenvectors\n",
    "    P_inv_matrix = np.linalg.inv(P_matrix)\n",
    "    D_matrix = np.diag(eigenvalues)\n",
    "    \n",
    "    return P_matrix, D_matrix, P_inv_matrix\n",
    "\n",
    "if __name__==\"__main__\":\n",
    "    # Nhập ma trận A\n",
    "    n = int(input('Nhập N: '))\n",
    "    A = np.zeros((n, n))\n",
    "    print(f'Nhập ma trận A[{n}x{n}]:')\n",
    "    for i in range(n):\n",
    "        for j in range(n):\n",
    "            A[i][j] = float(input(f'a[{i}][{j}] = '))\n",
    "    \n",
    "    print('Ma trận A:')\n",
    "    print(A)\n",
    "    \n",
    "    # Tính toán ma trận chéo, ma trận đường chéo và ma trận nghịch đảo của ma trận chéo\n",
    "    P, D, P_inv = matrix_diag_from_power_iteration(A)\n",
    "    print('Ma trận chéo P:')\n",
    "    print(P)\n",
    "    print('Ma trận đường chéo D:')\n",
    "    print(D)\n",
    "    print('Ma trận nghịch đảo P_inv:')\n",
    "    print(P_inv)\n",
    "    \n",
    "    # Khôi phục lại ma trận A\n",
    "    A_reconstructed = np.dot(np.dot(P, D), P_inv)\n",
    "    print('Ma trận A khôi phục từ P, D, và P_inv:')\n",
    "    print(A_reconstructed)\n"
   ]
  },
  {
   "cell_type": "markdown",
   "metadata": {},
   "source": [
    "**Ý tưởng thực hiện tìm ma trận chéo P và ma trận đường chéo D, Để tìm ma trận chéo P và ma trận đường chéo D cho một ma trận vuông A ,ta thực hiện các bước sau:**\n",
    "1. Tìm giá trị riêng của và vector riêng của A\n",
    "- Thuật toán Power Iteration: là một phương pháp lặp đơn giản và hiệu quả để tìm trị riêng (eigenvalue) lớn nhất về độ lớn (the largest eigenvalue in magnitude) và vector riêng (eigenvector) tương ứng của một ma trận vuông A. \n",
    "2. Các bước thực hiện:\n",
    "- Tìm trị riêng và vector riêng: Sử dụng thuật toán Power Iteration để tìm trị riêng lớn nhất và vector riêng tương ứng ở hàm def eigen_power_iteration(). Sử dụng deflation để giảm bậc của ma trận và tìm các trị riêng và vector riêng còn lại.\n",
    "- Xây dựng ma trận chéo P: Ma trận P được tạo bởi các vector riêng của ma trận A\n",
    "- Xây dựng ma trận đường chéo D: Ma trận D là ma trận đường chéo được tạo bởi các trị riêng của ma trận A bằng các sử dụng thư viện np.diag\n",
    "- Tính ma trận nghịch đảo P^-1: Sử dụng thư viện np.linalg.inv để tìm ma trận nghịch đảo của P"
   ]
  },
  {
   "cell_type": "markdown",
   "metadata": {},
   "source": [
    "## Bài 2) Mở rộng:\n",
    "- Tìm hiểu các hàm/ phương thức tương ứng của các thư viện và thực hiện nó, so sánh kết quả.\n",
    "- Tìm hiểu và trình bày ứng dụng của chéo hóa."
   ]
  },
  {
   "cell_type": "code",
   "execution_count": 10,
   "metadata": {},
   "outputs": [
    {
     "name": "stdout",
     "output_type": "stream",
     "text": [
      "Nhập ma trận A[3x3]:\n",
      "Ma trận A:\n",
      "[[ 3. -2.  0.]\n",
      " [-2.  3.  0.]\n",
      " [ 0.  0.  5.]]\n",
      "Ma trận chéo P:\n",
      "[[ 0.          0.70710678  0.70710678]\n",
      " [ 0.         -0.70710678  0.70710678]\n",
      " [ 1.          0.          0.        ]]\n",
      "Ma trận đường chéo D:\n",
      "[[5. 0. 0.]\n",
      " [0. 5. 0.]\n",
      " [0. 0. 1.]]\n",
      "Ma trận nghịch đảo P_inv:\n",
      "[[ 0.          0.          1.        ]\n",
      " [ 0.70710678 -0.70710678  0.        ]\n",
      " [ 0.70710678  0.70710678  0.        ]]\n",
      "Ma trận A khôi phục từ P, D, và P_inv:\n",
      "[[ 3. -2.  0.]\n",
      " [-2.  3.  0.]\n",
      " [ 0.  0.  5.]]\n"
     ]
    }
   ],
   "source": [
    "def matrix_diag(A):\n",
    "    # Tìm trị riêng, vector riêng\n",
    "    eigenvalues, eigenvectors = np.linalg.eig(A)\n",
    "    \n",
    "    # Sắp xếp giảm dần theo trị riêng\n",
    "    sorted_idx = np.argsort(eigenvalues)[::-1]\n",
    "    eigenvalues = eigenvalues[sorted_idx]\n",
    "    eigenvectors = eigenvectors[:, sorted_idx]\n",
    "    \n",
    "    P_matrix = eigenvectors\n",
    "    P_inv_matrix = np.linalg.inv(P_matrix)\n",
    "    D_matrix = np.diag(eigenvalues)\n",
    "    \n",
    "    return P_matrix, D_matrix, P_inv_matrix\n",
    "\n",
    "if __name__==\"__main__\":\n",
    "    # Nhập ma trận A\n",
    "    n = int(input('Nhập N: '))\n",
    "    A = np.zeros((n, n))\n",
    "    print('Nhập ma trận A[' + str(n) + 'x' + str(n) + ']:')\n",
    "    for i in range(n):\n",
    "        for j in range(n):\n",
    "            A[i][j] = float(input('a[' + str(i) + '][' + str(j) + ']='))\n",
    "\n",
    "    print('Ma trận A:')\n",
    "    print(A)\n",
    "\n",
    "    P, D, P_inv = matrix_diag(A)\n",
    "    \n",
    "    # Hiển thị các ma trận kết quả\n",
    "    print('Ma trận chéo P:')\n",
    "    print(P)\n",
    "    print('Ma trận đường chéo D:')\n",
    "    print(D)\n",
    "    print('Ma trận nghịch đảo P_inv:')\n",
    "    print(P_inv)\n",
    "    \n",
    "    # Khôi phục lại ma trận A từ P, D, và P_inv\n",
    "    A_reconstructed = np.dot(np.dot(P, D), P_inv)\n",
    "    \n",
    "    # Hiển thị ma trận A đã được khôi phục để kiểm tra tính chính xác\n",
    "    print('Ma trận A khôi phục từ P, D, và P_inv:')\n",
    "    print(A_reconstructed)"
   ]
  },
  {
   "cell_type": "markdown",
   "metadata": {},
   "source": [
    "1. Tìm hiểu hàm/ phương thức tương ứng của các thư viện và thực hiện nó, so sánh kết quả.\n",
    "- numpy.linalg.eig: Hàm này trả về các trị riêng (eigenvalues) và vector riêng (eigenvectors) của ma trận A.\n",
    "- numpy.argsort: Trả về các chỉ số của các trị riêng theo thứ tự tăng dần.\n",
    "[:: -1] đảo ngược thứ tự để có thứ tự giảm dần.\n",
    "- numpy.diag: Tạo ra một ma trận đường chéo từ một mảng.\n",
    "- numpy.dot: Thực hiện nhân ma trận.\n",
    "- So sánh kết quả: Sử dụng thư viện có sẵn để giải ở Bài 2 cho ra kết quả có sai số rất rất nhỏ (gần đúng) hơn so với giải thuần túy ở Bài 1\n",
    "\n",
    "2. Tìm hiểu và trình bày ứng dụng của chéo hóa:\n",
    "Chéo hóa ma trận là một kỹ thuật toán học mạnh mẽ với nhiều ứng dụng quan trọng trong khoa học và kỹ thuật. Từ việc giải hệ phương trình vi phân, phân tích dữ liệu, thiết kế hệ thống điều khiển đến tăng tốc độ tính toán, chéo hóa ma trận đóng một vai trò quan trọng trong việc giải quyết các bài toán phức tạp một cách hiệu quả:\n",
    "- Giải Hệ Phương Trình Vi Phân Tuyến Tính\n",
    "- Phân Tích Ma Trận và Giảm Kích Thước Dữ Liệu\n",
    "- Phân Tích và Thiết Kế Hệ Thống Điều Khiển\n",
    "- Giải Quyết Bài Toán Giá Trị Riêng\n",
    "- Tăng Tốc Độ Tính Toán...vv"
   ]
  }
 ],
 "metadata": {
  "kernelspec": {
   "display_name": "Python 3",
   "language": "python",
   "name": "python3"
  },
  "language_info": {
   "codemirror_mode": {
    "name": "ipython",
    "version": 3
   },
   "file_extension": ".py",
   "mimetype": "text/x-python",
   "name": "python",
   "nbconvert_exporter": "python",
   "pygments_lexer": "ipython3",
   "version": "3.11.8"
  }
 },
 "nbformat": 4,
 "nbformat_minor": 2
}
