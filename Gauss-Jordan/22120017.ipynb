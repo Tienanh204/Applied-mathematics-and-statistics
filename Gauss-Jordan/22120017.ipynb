{
 "cells": [
  {
   "cell_type": "markdown",
   "metadata": {},
   "source": [
    "# TOÁN ỨNG DỤNG VÀ THỐNG KÊ\n",
    "\n",
    "## Đồ án Gauss – Jordan\n",
    "\n",
    "---\n",
    "\n",
    "**Thông Tin Sinh Viên**\n",
    "- MSSV: 22120017\n",
    "- Họ tên: Trương Tiến Anh\n",
    "- Lớp: Chiều thứ 7\n"
   ]
  },
  {
   "cell_type": "markdown",
   "metadata": {},
   "source": [
    "## Thuật toán Gauss - Jordan\n",
    "\n",
    "Phép khử Gauss - Jordan là một cách biến đổi tương đương dòng để đưa ma trận về ma trận đường chéo. Thuật giải gồm các bước sau:\n",
    "\n",
    "1. **Kiểm tra các số hạng từ dòng thứ i đến dòng thứ n của cột thứ i**:\n",
    "   - Nếu tất cả các số hạng từ dòng thứ i đến dòng thứ n của cột thứ i đều là số 0, kết luận rằng ma trận A không khả nghịch và giải thuật kết thúc.\n",
    "   - Ngược lại, đổi chỗ hai dòng nếu cần thiết để đưa một số hạng khác 0 ở dưới dòng thứ j về dòng thứ i.\n",
    "\n",
    "2. **Với số hạng ở dòng thứ i là a ≠ 0**:\n",
    "   - Nhân dòng thứ i với 1/a để nhận được số 1 (nằm trên đường chéo của A).\n",
    "\n",
    "3. **Cộng một bội số thích hợp của dòng thứ i với các dòng khác dòng thứ i**:\n",
    "   - Mục tiêu là biến các số hạng trên cột i về số 0 (trừ số hạng nằm ở dòng thứ i).\n",
    "   - Trở lại bước 1 cho dòng kế, i = i + 1.\n",
    "\n",
    "Kết thúc thuật toán, ta nhận được ma trận (In|A^-1)."
   ]
  },
  {
   "cell_type": "markdown",
   "metadata": {},
   "source": [
    "## Bài 1) Sinh viên viết hàm inverse(A), trong đó\n",
    " - Input: A là ma trận vuông.\n",
    " - Output: Ma trận nghịch đảo của ma trận A ban đầu (nếu có). Trường hợp không có ma trận nghịch đảo sẽ hiện thông báo \"Ma trận không khả nghịch\"."
   ]
  },
  {
   "cell_type": "code",
   "execution_count": 1,
   "metadata": {},
   "outputs": [],
   "source": [
    "import numpy as np\n",
    "import sys"
   ]
  },
  {
   "cell_type": "code",
   "execution_count": 2,
   "metadata": {},
   "outputs": [],
   "source": [
    "def inverse_1(A):\n",
    "    n = A.shape[0]\n",
    "    #Xay dung ma tran A|I\n",
    "    #Code 1\n",
    "    for i in range(n):\n",
    "        for j in range(n):\n",
    "            if i == j:\n",
    "                A[i][j+n] = 1\n",
    "    \n",
    "    #Code 2\n",
    "    for i in range(n):\n",
    "        if A[i][i] == 0.0:\n",
    "            sys.exit('Ma trận không khả nghịch')\n",
    "        for j in range(n):\n",
    "            if i != j:\n",
    "               coef = A[j][i] / A[i][i]\n",
    "               \n",
    "               for k in range(2*n):\n",
    "                   A[j][k] -= coef*A[i][k]\n",
    "    #Code 3            \n",
    "    for i in range(n):\n",
    "        div = A[i][i]\n",
    "        for j in range(2*n):\n",
    "            A[i][j] = A[i][j] / div\n",
    "    \n",
    "    return A #Ma tran kha nghich     \n",
    "\n"
   ]
  },
  {
   "cell_type": "markdown",
   "metadata": {},
   "source": [
    "## Ý tưởng thực hiện:\n",
    "- Ta đi xây dựng ma trận có dạng A|I ở (Code 1)\n",
    "- Duyệt ma trận A|I nếu kiểm tra ma trận không khả nghịch nếu mỗi phần tử trên đường chéo chính của ma trận A (vị trí A[i][i]), nếu bất kì phần tử nào trên đường chéo chính bằng 0, tức ma trận không khả nghịch\n",
    "- Biến đổi ma trận A|I -> I|A^-1 bằng cách nhân với hệ số thích hợp rồi trừ các dòng cho nhau\n",
    "- Chuẩn hóa mỗi hàng của ma trận A|I để đảm bảo rằng các phần tử trên đường chéo chính của ma trận A (Vị trí A[i][j]) đều bằng 1 (Code 3)"
   ]
  },
  {
   "cell_type": "markdown",
   "metadata": {},
   "source": [
    "## Bài 2) Mở rộng:\n",
    "- Tìm hiểu hàm/ phương thức tương ứng của các thư viện và thực hiện nó, so sánh kết quả"
   ]
  },
  {
   "cell_type": "code",
   "execution_count": 3,
   "metadata": {},
   "outputs": [],
   "source": [
    "def inverse_2(A):\n",
    "    try:\n",
    "        A_inv = np.linalg.inv(A)\n",
    "        return A_inv\n",
    "    except np.linalg.LinAlgError:\n",
    "        sys.exit(\"Ma trận không khả nghịch\")"
   ]
  },
  {
   "cell_type": "markdown",
   "metadata": {},
   "source": [
    "## Ý tưởng:\n",
    "- sử dụng hàm np.linalg.inv(A) từ thư viện NumPy để tìm ma trận nghịch đảo\n",
    "- Nếu có bất kỳ ngoại lệ nào xảy ra trong quá trình tính toán (ví dụ như ma trận A không khả nghịch), nó sẽ bị bắt bởi except np.linalg.LinAlgError:\n",
    "- Xuất kết quả\n",
    "## So sánh kết quả\n",
    "- Kết quả trả về của 2 phương pháp là như nhau, nhưng xét về khả năng chính xác và xử lý lỗi thì hàm def inverse_2(A): sẽ tốt hơn"
   ]
  },
  {
   "cell_type": "code",
   "execution_count": 4,
   "metadata": {},
   "outputs": [
    {
     "name": "stdout",
     "output_type": "stream",
     "text": [
      "Nhập ma trận vuông A[NxN]\n",
      "Ma trận nghịch đảo 1:\n",
      "3.0\t1.0\t1.5\t\n",
      "-1.25\t-0.25\t-0.75\t\n",
      "-0.25\t-0.25\t-0.25\t\n",
      "Ma trận nghịch đảo 2:\n",
      "[[ 3.    1.    1.5 ]\n",
      " [-1.25 -0.25 -0.75]\n",
      " [-0.25 -0.25 -0.25]]\n"
     ]
    }
   ],
   "source": [
    "if __name__=='__main__':\n",
    "    n = int(input('Nhập n: '))\n",
    "    print('Nhập ma trận vuông A[NxN]')\n",
    "\n",
    "    A = np.zeros((n, 2*n))\n",
    "    for i in range(n):\n",
    "        for j in range(n):\n",
    "            A[i][j] = float(input( 'a['+str(i)+']['+ str(j)+']='))\n",
    "            \n",
    "    B = np.copy(A[:, :n])\n",
    "\n",
    "    A_inv_1 = inverse_1(A)\n",
    "    print('Ma trận nghịch đảo 1:')\n",
    "    for i in range(n):\n",
    "        for j in range(n, 2*n):\n",
    "           print(A_inv_1[i][j], end='\\t')\n",
    "        print()\n",
    "\n",
    "    B_inv = inverse_2(B)\n",
    "    print('Ma trận nghịch đảo 2:')\n",
    "    print(B_inv)"
   ]
  }
 ],
 "metadata": {
  "kernelspec": {
   "display_name": "Python 3",
   "language": "python",
   "name": "python3"
  },
  "language_info": {
   "codemirror_mode": {
    "name": "ipython",
    "version": 3
   },
   "file_extension": ".py",
   "mimetype": "text/x-python",
   "name": "python",
   "nbconvert_exporter": "python",
   "pygments_lexer": "ipython3",
   "version": "3.11.8"
  }
 },
 "nbformat": 4,
 "nbformat_minor": 2
}
