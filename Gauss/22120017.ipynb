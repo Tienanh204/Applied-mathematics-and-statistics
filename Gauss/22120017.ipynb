{
 "cells": [
  {
   "cell_type": "markdown",
   "metadata": {},
   "source": [
    "## TOÁN ỨNG DỤNG VÀ THỐNG KÊ\n",
    "\n",
    "--------------**Thông Tin Sinh Viên**--------------\n",
    "- MSSV: 22120017\n",
    "- Họ tên: Trương Tiến Anh\n",
    "- Lớp: Chiều thứ 7\n",
    "- Đồ án: Gauss\n",
    "----------------------------------------------------"
   ]
  },
  {
   "cell_type": "code",
   "execution_count": 2,
   "metadata": {},
   "outputs": [],
   "source": [
    "\n",
    "from math import *\n",
    "import numpy as np\n",
    "\n",
    "def Gauss_elimination(A):\n",
    "    n = len(A)\n",
    "    for k in range(n-1):\n",
    "        for i in range(k+1, n):\n",
    "            if A[i,k] == 0:\n",
    "                continue\n",
    "            factor = A[k,k] / A[i,k]\n",
    "            for j in range(k, n):\n",
    "                A[i,j] = A[k,j] - A[i,j] * factor\n",
    "            A[i,-1] = A[k,-1] - A[i,-1] * factor\n",
    "    return A\n",
    "\n",
    "def printMatrix(A):\n",
    "    for row in A:\n",
    "        formatted_row = ''\n",
    "        for elem in row[:-1]:\n",
    "            if isinstance(elem, int):\n",
    "                formatted_row += f'{elem:.2f} '\n",
    "            else:\n",
    "                formatted_row += f'{elem} '\n",
    "        formatted_row += f'| {row[-1]}'\n",
    "        print(formatted_row)\n",
    "\n",
    "if __name__ == \"__main__\":\n",
    "    n = int(input('Nhập số hàng của ma trận A: '))\n",
    "    m = int(input('Nhập số cột của ma trận A: '))\n",
    "\n",
    "    print('Nhập ma trận A[]:')\n",
    "    matrix_A = np.zeros((n, m), float)\n",
    "    for i in range(n):\n",
    "        matrix_A[i] = [float(x) for x in input().split()]\n",
    "    \n",
    "    print('Nhập ma trận B[]: ')\n",
    "    matrix_b = np.array([float(x) for x in input().split()])\n",
    "\n",
    "    res = Gauss_elimination(np.column_stack((matrix_A, matrix_b)))\n",
    "\n",
    "    print('Gauss elimination A|B')\n",
    "    printMatrix(res)"
   ]
  },
  {
   "cell_type": "markdown",
   "metadata": {},
   "source": [
    "## Mô Tả Ý Tưởng\n",
    "**Gauss Elimination**\n",
    "Bước 1: Duyệt qua từng cột của ma trận mở rộng (A|b).\n",
    "\n",
    "Bước 2: Tại mỗi bước, chọn phần tử trên đường chéo chính (pivot) và dùng nó để loại bỏ các phần tử dưới pivot trong cùng cột.\n",
    "\n",
    "Bước 3: Đối với mỗi hàng dưới pivot, biến đổi sao cho phần tử ở vị trí đó trở thành 0 bằng cách sử dụng một hệ số phù hợp để triệt tiêu. Lặp lại cho đến khi tất cả các hàng và cột đã được biến đổi.\n",
    "\n",
    "## Mô Tả Các Hàm\n",
    "1. **Gauss_elimination(A):** Hàm này sử dụng phương pháp loại bỏ Gauss để biến đổi ma trận mở rộng (A|b) thành ma trận tam giác trên.\n",
    "\n",
    "   - Đầu vào: ma trận mở rộng A.\n",
    "   \n",
    "   - Đầu ra: ma trận tam giác trên sau khi thực hiện phép loại bỏ Gauss.\n"
   ]
  },
  {
   "cell_type": "code",
   "execution_count": null,
   "metadata": {},
   "outputs": [],
   "source": [
    "import numpy as np"
   ]
  },
  {
   "cell_type": "code",
   "execution_count": 1,
   "metadata": {},
   "outputs": [
    {
     "ename": "NameError",
     "evalue": "name 'printMatrix' is not defined",
     "output_type": "error",
     "traceback": [
      "\u001b[1;31m---------------------------------------------------------------------------\u001b[0m",
      "\u001b[1;31mNameError\u001b[0m                                 Traceback (most recent call last)",
      "Cell \u001b[1;32mIn[1], line 60\u001b[0m\n\u001b[0;32m     57\u001b[0m         \u001b[38;5;28mprint\u001b[39m()\n\u001b[0;32m     59\u001b[0m \u001b[38;5;28;01mif\u001b[39;00m \u001b[38;5;18m__name__\u001b[39m \u001b[38;5;241m==\u001b[39m \u001b[38;5;124m\"\u001b[39m\u001b[38;5;124m__main__\u001b[39m\u001b[38;5;124m\"\u001b[39m:\n\u001b[1;32m---> 60\u001b[0m     \u001b[43mprintMatrix\u001b[49m(res)\n\u001b[0;32m     61\u001b[0m     back_substitution(res)\n",
      "\u001b[1;31mNameError\u001b[0m: name 'printMatrix' is not defined"
     ]
    }
   ],
   "source": [
    "\n",
    "\n",
    "def back_substitution(A):\n",
    "    num_rows, num_cols = len(A), len(A[0])\n",
    "    k = 0\n",
    "    \n",
    "    #Kiểm tra phương trình vô nghiệm\n",
    "    for i in range(num_rows):\n",
    "        for j in range(num_cols):\n",
    "            if A[i][j] != 0 and j != num_cols - 1:\n",
    "                break\n",
    "            if A[i][j] != 0 and j == num_cols - 1:\n",
    "                print(\"Hệ phương trình vô nghiệm\")\n",
    "                return\n",
    "            if j == num_cols - 1:\n",
    "                k += 1\n",
    "\n",
    "    #Trường hợp phương trình có 1 nghiệm\n",
    "    if k == 0:\n",
    "        n = num_cols - 1\n",
    "        x = np.zeros(n)\n",
    "\n",
    "        for i in reversed(range(num_rows)):\n",
    "            x[i] = A[i][num_cols - 1]\n",
    "            for j in range(i + 1, num_cols - 1):\n",
    "                x[i] -= A[i][j] * x[j]\n",
    "            x[i] /= A[i][i]\n",
    "\n",
    "        print('\\nNghiệm của hệ phương trình: ')\n",
    "        for i in range(n):\n",
    "            print('X%d = %0.2f' % (i, x[i]), end='\\t')\n",
    "        return\n",
    "\n",
    "    #Trường hợp phương trình có vô số nghiệm\n",
    "    res = np.zeros((num_rows, num_cols))\n",
    "    \n",
    "    for i in range(num_rows - 1, -1, -1):\n",
    "        if A[i][i] == 0:\n",
    "            res[i][i]=1\n",
    "            continue\n",
    "        \n",
    "        res[i][num_cols - 1] = A[i][num_cols - 1]\n",
    "        for j in range(i + 1, num_cols - 1):\n",
    "            temp = -A[i][j]\n",
    "            for k in range(num_cols):\n",
    "                res[i][k] += temp * res[j][k]\n",
    "\n",
    "    print('Hệ phương trình có vô số nghiệm')\n",
    "    for i in range(len(A)):\n",
    "        print(\"X\" + str(i+1) + \" = \", end = '' )\n",
    "        for j in range(len(res[i])):\n",
    "            if(res[i][j] > 0):\n",
    "                print(\" + \"  + str(res[i][j]), end = '' )\n",
    "            elif(res[i][j] < 0):\n",
    "                print(\" - \"  + str(abs(res[i][j])), end = '' )\n",
    "            \n",
    "            if(j != len(A[i])-1 and res[i][j] != 0):\n",
    "                print(\"X\" + str(j+1), end = '')\n",
    "        print()\n",
    "\n",
    "if __name__ == \"__main__\":\n",
    "    printMatrix(res)\n",
    "    back_substitution(res)\n",
    "\n"
   ]
  },
  {
   "cell_type": "markdown",
   "metadata": {},
   "source": [
    "## MÔ TẢ Ý TƯỞNG\n",
    "\n",
    "### Back Substitution\n",
    "- **Bước 1:** Sau khi đưa ma trận về dạng tam giác trên, ta sử dụng phương pháp Substitution ngược để tìm ra nghiệm.\n",
    "\n",
    "- **Bước 2:** Bắt đầu từ hàng cuối của ma trận tam giác trên, chúng ta tính giá trị của các biến bằng cách sử dụng những phép toán học.\n",
    "\n",
    "- **Bước 3:** Sau khi tìm được giá trị của một nghiệm, ta có thể dùng giá trị này để suy ra các nghiệm còn lại.\n",
    "\n",
    "## MÔ TẢ CÁC HÀM\n",
    "1. **hàm_back_substitution()**:\n",
    "   - Thực hiện phương pháp substitution ngược để tìm ra nghiệm của Hệ Phương Trình Tuyến Tính (HPT).\n",
    "\n",
    "   - Đầu vào là ma trận tam giác trên sau khi thực hiện phép loại bỏ Gauss.\n",
    "   \n",
    "   - Đầu ra là nghiệm của HPT (Có nghiệm duy nhất, Có vô số nghiệm, Vô nghiệm).\n"
   ]
  },
  {
   "cell_type": "code",
   "execution_count": 1,
   "metadata": {},
   "outputs": [
    {
     "ename": "NameError",
     "evalue": "name 'matrix_A' is not defined",
     "output_type": "error",
     "traceback": [
      "\u001b[1;31m---------------------------------------------------------------------------\u001b[0m",
      "\u001b[1;31mNameError\u001b[0m                                 Traceback (most recent call last)",
      "Cell \u001b[1;32mIn[1], line 18\u001b[0m\n\u001b[0;32m     15\u001b[0m             \u001b[38;5;28;01mreturn\u001b[39;00m \u001b[38;5;28;01mNone\u001b[39;00m, \u001b[38;5;124m\"\u001b[39m\u001b[38;5;124mHệ phương trình vô nghiệm\u001b[39m\u001b[38;5;124m\"\u001b[39m \n\u001b[0;32m     17\u001b[0m \u001b[38;5;28;01mif\u001b[39;00m \u001b[38;5;18m__name__\u001b[39m \u001b[38;5;241m==\u001b[39m \u001b[38;5;124m\"\u001b[39m\u001b[38;5;124m__main__\u001b[39m\u001b[38;5;124m\"\u001b[39m:\n\u001b[1;32m---> 18\u001b[0m     x, message \u001b[38;5;241m=\u001b[39m solve_linear_system(np\u001b[38;5;241m.\u001b[39mcolumn_stack((\u001b[43mmatrix_A\u001b[49m, matrix_b)))\n\u001b[0;32m     19\u001b[0m     \u001b[38;5;28;01mif\u001b[39;00m x \u001b[38;5;129;01mis\u001b[39;00m \u001b[38;5;129;01mnot\u001b[39;00m \u001b[38;5;28;01mNone\u001b[39;00m:\n\u001b[0;32m     20\u001b[0m         \u001b[38;5;28mprint\u001b[39m(\u001b[38;5;124m\"\u001b[39m\u001b[38;5;124mNghiệm của hệ phương trình:\u001b[39m\u001b[38;5;124m\"\u001b[39m)\n",
      "\u001b[1;31mNameError\u001b[0m: name 'matrix_A' is not defined"
     ]
    }
   ],
   "source": [
    "\n",
    "from math import *\n",
    "import numpy as np\n",
    "def solve_linear_system(A_ext):\n",
    "    try:\n",
    "        # Tách ma trận mở rộng A|b thành ma trận A và vector b\n",
    "        A = A_ext[:, :-1]\n",
    "        b = A_ext[:, -1]\n",
    "\n",
    "        x = np.linalg.solve(A, b)\n",
    "        return x, \"Nghiệm duy nhất\"\n",
    "    except np.linalg.LinAlgError as e:\n",
    "        if 'Singular matrix' in str(e):\n",
    "            return None, \"Hệ phương trình vô số nghiệm\"\n",
    "        elif 'Incompatible dimensions' in str(e) or 'Incompatible matrix sizes' in str(e):\n",
    "            return None, \"Hệ phương trình vô nghiệm\" \n",
    "\n",
    "if __name__ == \"__main__\":\n",
    "    x, message = solve_linear_system(np.column_stack((matrix_A, matrix_b)))\n",
    "    if x is not None:\n",
    "        print(\"Nghiệm của hệ phương trình:\")\n",
    "        print(x)\n",
    "    else:\n",
    "        print(\"Nghiệm của hệ phương trình:\")\n",
    "        print(message)"
   ]
  },
  {
   "cell_type": "markdown",
   "metadata": {},
   "source": [
    "## Câu 3: Giải Hệ Phương Trình Ax = b\n",
    "\n",
    "- Sử dụng hàm `np.linalg.solve()` từ thư viện NumPy để giải hệ phương trình tuyến tính.\n",
    "\n",
    "- Tham số truyền vào là ma trận mở rộng A|B.\n",
    "\n",
    "- Thời gian cho ra kết quả so với việc sử dụng 2 hàm `Gauss_elimination(A)` và `back_substitution(A)` là nhanh hơn rất nhiều.\n",
    "\n",
    "- Độ chính xác cao hơn, việc xử lý các trường hợp ngoại lệ của hàm `np.linalg.solve()` hiệu quả hơn so với việc giải thuần túy.\n"
   ]
  }
 ],
 "metadata": {
  "kernelspec": {
   "display_name": "Python 3",
   "language": "python",
   "name": "python3"
  },
  "language_info": {
   "codemirror_mode": {
    "name": "ipython",
    "version": 3
   },
   "file_extension": ".py",
   "mimetype": "text/x-python",
   "name": "python",
   "nbconvert_exporter": "python",
   "pygments_lexer": "ipython3",
   "version": "3.11.8"
  }
 },
 "nbformat": 4,
 "nbformat_minor": 2
}
