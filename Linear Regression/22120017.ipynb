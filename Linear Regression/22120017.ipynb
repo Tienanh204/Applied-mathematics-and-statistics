{
 "cells": [
  {
   "cell_type": "markdown",
   "metadata": {},
   "source": [
    "# TOÁN ỨNG DỤNG VÀ THỐNG KÊ\n",
    "\n",
    "## Đồ án Linear Regression\n",
    "\n",
    "---\n",
    "\n",
    "**Thông Tin Sinh Viên**\n",
    "- Họ tên: Trương Tiến Anh\n",
    "- MSSV: 22120017\n",
    "- Lớp: Chiều thứ 7"
   ]
  },
  {
   "cell_type": "code",
   "execution_count": 2,
   "metadata": {},
   "outputs": [],
   "source": [
    "import numpy as np\n",
    "import pandas as pd\n",
    "from sklearn.model_selection import KFold\n",
    "from sklearn import linear_model\n"
   ]
  },
  {
   "cell_type": "markdown",
   "metadata": {},
   "source": [
    "# Xây dựng các hàm hỗ trợ"
   ]
  },
  {
   "cell_type": "code",
   "execution_count": 7,
   "metadata": {},
   "outputs": [],
   "source": [
    "# Linear regression\n",
    "def linear_regression(features, target, fit_intercept=True):\n",
    "    try:\n",
    "        model = linear_model.LinearRegression(fit_intercept=fit_intercept).fit(features, target)\n",
    "        return model.coef_, model.intercept_\n",
    "    except Exception as e:\n",
    "        print(f\"An error occurred: {e}\")\n",
    "        return None, None"
   ]
  },
  {
   "cell_type": "code",
   "execution_count": 6,
   "metadata": {},
   "outputs": [],
   "source": [
    "# Cross Validation\n",
    "def cross_validation(features, target, k_folds):\n",
    "    kf = KFold(n_splits=k_folds)\n",
    "    error_list = []\n",
    "\n",
    "    for train_indices, test_indices in kf.split(features):\n",
    "        features_train, features_test = features[train_indices], features[test_indices]\n",
    "        target_train, target_test = target[train_indices], target[test_indices]\n",
    "        coefficients, intercept = linear_regression(features_train, target_train)\n",
    "        \n",
    "        if coefficients is None or intercept is None:\n",
    "            print(\"An error occurred during model training.\")\n",
    "            return None\n",
    "        \n",
    "        predictions = np.dot(features_test, coefficients) + intercept\n",
    "        error = np.mean(np.abs(target_test - predictions))\n",
    "        error_list.append(error)\n",
    "\n",
    "    return np.mean(error_list)"
   ]
  },
  {
   "cell_type": "code",
   "execution_count": 3,
   "metadata": {},
   "outputs": [
    {
     "name": "stdout",
     "output_type": "stream",
     "text": [
      "Features (Đặc trưng):\n",
      "[[ 7.4   0.7   0.   ...  3.51  0.56  9.4 ]\n",
      " [ 7.8   0.88  0.   ...  3.2   0.68  9.8 ]\n",
      " [ 7.8   0.76  0.04 ...  3.26  0.65  9.8 ]\n",
      " ...\n",
      " [ 7.9   0.58  0.23 ...  3.21  0.58  9.5 ]\n",
      " [ 7.7   0.57  0.21 ...  3.16  0.54  9.8 ]\n",
      " [ 7.7   0.26  0.26 ...  3.15  0.79 10.9 ]]\n",
      "\n",
      "Target (Nhãn):\n",
      "[5 5 5 ... 6 6 6]\n",
      "\n",
      "Labels (Tên các cột đặc trưng):\n",
      "Index(['\"fixed acidity\"', '\"volatile acidity\"', '\"citric acid\"',\n",
      "       '\"residual sugar\"', '\"chlorides\"', '\"free sulfur dioxide\"',\n",
      "       '\"total sulfur dioxide\"', '\"density\"', '\"pH\"', '\"sulphates\"',\n",
      "       '\"alcohol\"'],\n",
      "      dtype='object')\n"
     ]
    }
   ],
   "source": [
    "# Đọc file CSV\n",
    "df = pd.read_csv('wine.csv')\n",
    "\n",
    "# Chuẩn bị dữ liệu\n",
    "features = df.iloc[:, 1:].to_numpy()  # Sử dụng tất cả các cột ngoại trừ cột đầu tiên\n",
    "target = df.iloc[:, 0].to_numpy()     # Sử dụng cột đầu tiên làm nhãn\n",
    "labels = df.columns[1:]\n",
    "\n",
    "print(\"Features (Đặc trưng):\")\n",
    "print(features)\n",
    "print(\"\\nTarget (Nhãn):\")\n",
    "print(target)\n",
    "print(\"\\nLabels (Tên các cột đặc trưng):\")\n",
    "print(labels)"
   ]
  },
  {
   "cell_type": "markdown",
   "metadata": {},
   "source": [
    "### **Ý tưởng**\n",
    "### **Linear Regression**\n",
    "\n",
    "##### Giới thiệu\n",
    "\n",
    "* **Xây dựng mô hình đơn giản theo công thức: $Ax = b$**\n",
    "  * $A$ là ma trận dữ liệu (các tính chất của rượu)\n",
    "  * $b$ là nhãn (label) của mỗi dòng dữ liệu trong ma trận $A$, được thể hiện dưới dạng đánh giá (xếp loại) rượu\n",
    "\n",
    "##### Công thức mô hình\n",
    "\n",
    "* **Với mô hình trên, ta có thể tìm mô hình theo công thức:**\n",
    "  $\\hat{x}=A^\\dagger\\cdot b$\n",
    "  * Khi đó, mô hình sẽ đi qua gốc tọa độ của đồ thị, điều này dẫn đến sự hạn chế.\n",
    "  * Do đó, chúng ta chọn mô hình theo công thức sau:\n",
    "  \\[Ax + b_0 = b\\]\n",
    "  * Với công thức này, mô hình có thể dịch chuyển trên trục tung, tăng sự linh hoạt.\n",
    "\n",
    "##### Sử dụng `sklearn` để xây dựng mô hình\n",
    "\n",
    "* Bộ thư viện `sklearn` cung cấp công cụ để dựng mô hình hồi quy tuyến tính với công thức đã chọn:\n",
    "  * Sau khi fit các tham số bao gồm \\(A\\) và \\(b\\) vào mô hình, các thuộc tính quan trọng của mô hình Linear Regression được sinh ra, bao gồm:\n",
    "    * `coef_`: \\(\\hat{x}\\)\n",
    "    * `intercept_`: \\(b_0\\)\n",
    "  * Gán các giá trị này vào công thức, ta được mô hình hồi quy tuyến tính cần tìm.\n",
    "\n",
    "\n",
    "### **Cross Validation**\n",
    "\n",
    "##### Giới thiệu\n",
    "\n",
    "* **K-Fold Cross-validation** là một kỹ thuật dùng để đánh giá hiệu quả của mô hình trên tập dữ liệu.\n",
    "  * **Xáo trộn dữ liệu** (tùy chọn)\n",
    "  * **Chia dataset thành k nhóm** (folds)\n",
    "  * **Quy trình thực hiện với mỗi nhóm**:\n",
    "    1. Sử dụng nhóm hiện tại để đánh giá hiệu quả mô hình.\n",
    "    2. Các nhóm còn lại được sử dụng để huấn luyện mô hình.\n",
    "    3. Huấn luyện mô hình trên tập train.\n",
    "    4. Đánh giá mô hình trên tập test.\n",
    "  * **Tổng hợp hiệu quả qua các đánh giá**.\n",
    "##### Sử dụng `sklearn` cho K-Fold Cross-validation\n",
    "\n",
    "* Bộ thư viện `sklearn` cung cấp hàm `sklearn.model_selection.KFold` để tự động chia tập dữ liệu thành \\(k\\) nhóm và `split` thành các bộ dữ liệu train/test khác nhau.\n",
    "  * **Quy trình chi tiết**:\n",
    "    1. **Xây dựng mô hình** trên tập train, ta được các tham số $\\hat{x}$, $b_0$\n",
    "    2. **Áp dụng mô hình lên tập test**: $A_{test}\\cdot \\hat{x}=b'$\n",
    "    3. **Tính sai số** so với nhãn của tập test: $|b'-b_{test}|$. Kết quả này là một ma trận có shape giống  $b_{test}$. Tính trung bình của ma trận này để được sai số của mô hình trên tập train/test đó.\n",
    "    4. **Lặp lại cho tất cả các tập train/test** được split ra ở trên, sau đó tính trung bình các sai số này để được sai số trung bình của mô hình dựa trên phương pháp Cross Validation.\n",
    "  * **Số \\(k\\) được chọn cho K-Fold thường là 10**.\n",
    "### Đọc File CSV\n",
    "* **Tách dữ liệu đọc từ `wine.csv` thành bộ dữ liệu và bộ label**"
   ]
  },
  {
   "cell_type": "markdown",
   "metadata": {},
   "source": [
    "# Xây dựng mô hình đánh giá chất lượng rượu sử dụng phương pháp hồi quy tuyến tính"
   ]
  },
  {
   "cell_type": "markdown",
   "metadata": {},
   "source": [
    "### Câu a. Sử dụng bộ 11 đặc trưng đề bài cung cấp."
   ]
  },
  {
   "cell_type": "code",
   "execution_count": 10,
   "metadata": {},
   "outputs": [
    {
     "name": "stdout",
     "output_type": "stream",
     "text": [
      "Model Coefficients:\n",
      "Feature 1: 0.047525\n",
      "Feature 2: -1.068743\n",
      "Feature 3: -0.268711\n",
      "Feature 4: 0.034974\n",
      "Feature 5: -1.597296\n",
      "Feature 6: 0.003488\n",
      "Feature 7: -0.003798\n",
      "Feature 8: -39.469081\n",
      "Feature 9: -0.245576\n",
      "Feature 10: 0.773841\n",
      "Feature 11: 0.269377\n",
      "Intercept: 42.917162\n",
      "Cross-Validation Error (10-fold): 0.509451\n"
     ]
    }
   ],
   "source": [
    "\n",
    "coefficients, intercept = linear_regression(features, target)\n",
    "cv_error = cross_validation(features, target, k_folds=10)\n",
    "\n",
    "# In kết quả\n",
    "coefficients_str = \"\\n\".join([f\"Feature {i+1}: {coef:.6f}\" for i, coef in enumerate(coefficients)])\n",
    "print(\"Model Coefficients:\\n\" + coefficients_str)\n",
    "print(f\"Intercept: {intercept:.6f}\")\n",
    "print(f\"Cross-Validation Error (10-fold): {cv_error:.6f}\")"
   ]
  },
  {
   "cell_type": "markdown",
   "metadata": {},
   "source": [
    "### Ý tưởng\n",
    "* Dùng `linear_regression()` đã cài đặt để tìm model trên tất cả các tính chất"
   ]
  },
  {
   "cell_type": "markdown",
   "metadata": {},
   "source": [
    "### Câu b. Sử dụng duy nhất 1 đặc trưng cho kết quả tốt nhất. (Dùng phương pháp Cross Validation)"
   ]
  },
  {
   "cell_type": "code",
   "execution_count": 3,
   "metadata": {},
   "outputs": [],
   "source": [
    "# Choose best property\n",
    "def choose_best_property(X, y):\n",
    "    cross_val_errors = []\n",
    "\n",
    "    for feature_index in range(X.shape[1]):\n",
    "        cross_val_error = cross_validation(X[:, feature_index:feature_index + 1], y, k_folds=10)\n",
    "        if cross_val_error is not None:\n",
    "            cross_val_errors.append(cross_val_error)\n",
    "        else:\n",
    "            cross_val_errors.append(np.inf)  # Nếu có lỗi, gán giá trị lỗi rất lớn để không chọn đặc trưng này\n",
    "    \n",
    "    best_property_index = np.argmin(cross_val_errors)\n",
    "    return cross_val_errors, best_property_index"
   ]
  },
  {
   "cell_type": "code",
   "execution_count": 38,
   "metadata": {},
   "outputs": [
    {
     "name": "stdout",
     "output_type": "stream",
     "text": [
      "\n",
      "=== Best Property Selection ===\n",
      "Best property: \"alcohol\"\n",
      "\n",
      "=== Model ===\n",
      "Model: y = 0.374710 * x + 1.774076\n",
      "\n",
      "=== Cross-Validation Error ===\n",
      "Cross-Validation Error: 0.568944\n",
      "\n"
     ]
    }
   ],
   "source": [
    "error_list, best_index = choose_best_property(features, target)\n",
    "\n",
    "# Xây dựng mô hình với tính chất tốt nhất\n",
    "best_feature = features[:, best_index:best_index + 1]\n",
    "coefficients, intercept = linear_regression(best_feature, target)\n",
    "\n",
    "# In kết quả\n",
    "print(\"\\n=== Best Property Selection ===\")\n",
    "print(f\"Best property: {labels[best_index]}\")\n",
    "print(\"\\n=== Model ===\")\n",
    "print(f\"Model: y = {coefficients[0]:.6f} * x + {intercept:.6f}\")\n",
    "print(\"\\n=== Cross-Validation Error ===\")\n",
    "print(f\"Cross-Validation Error: {error_list[best_index]:.6f}\\n\")"
   ]
  },
  {
   "cell_type": "markdown",
   "metadata": {},
   "source": [
    "### Ý tưởng\n",
    "* Đối với từng cột (tính chất), chạy hàm `cross_validation()` để tìm sai số của mô hình dựa trên mỗi tính chất.\n",
    "\n",
    "* Tìm tính chất có sai số bé nhất để xác định tính chất tốt nhất.\n",
    "\n",
    "* Chạy `linear_regression()` để tìm mô hình dựa trên tính chất tốt nhất này."
   ]
  },
  {
   "cell_type": "markdown",
   "metadata": {},
   "source": [
    "### Câu c. Xây dựng một mô hình của riêng bạn cho kết quả tốt nhất"
   ]
  },
  {
   "cell_type": "code",
   "execution_count": 4,
   "metadata": {},
   "outputs": [],
   "source": [
    "# Build model\n",
    "def build_model(X, y, error_list, max_features):\n",
    "    sorted_error_indices = np.argsort(error_list)\n",
    "    full_error = cross_validation(X, y, k_folds=10)\n",
    "\n",
    "    abs_error_list = []\n",
    "    cv_error_list = []\n",
    "    selected_features_list = []\n",
    "\n",
    "    for num_features in range(2, max_features - 1):\n",
    "        selected_features = sorted_error_indices[:num_features]\n",
    "        X_selected = X[:, selected_features]\n",
    "        cv_error = cross_validation(X_selected, y, k_folds=10)\n",
    "        \n",
    "        if cv_error is not None:\n",
    "            cv_error_list.append(cv_error)\n",
    "            abs_error_list.append(np.abs(full_error - cv_error))\n",
    "            selected_features_list.append(selected_features)\n",
    "        else:\n",
    "            cv_error_list.append(np.inf)\n",
    "            abs_error_list.append(np.inf)\n",
    "            selected_features_list.append(selected_features)\n",
    "    \n",
    "    best_model_index = np.argmin(abs_error_list)\n",
    "    return cv_error_list, selected_features_list, best_model_index"
   ]
  },
  {
   "cell_type": "code",
   "execution_count": 40,
   "metadata": {},
   "outputs": [
    {
     "name": "stdout",
     "output_type": "stream",
     "text": [
      "\n",
      "=== Model Building with Top Features ===\n",
      "Best properties:\n",
      "1. \"alcohol\"\n",
      "2. \"volatile acidity\"\n",
      "3. \"total sulfur dioxide\"\n",
      "4. \"citric acid\"\n",
      "5. \"sulphates\"\n",
      "6. \"density\"\n",
      "7. \"fixed acidity\"\n",
      "8. \"chlorides\"\n",
      "9. \"free sulfur dioxide\"\n",
      "\n",
      "Model:\n",
      "A[ 2.79228621e-01 -1.08519171e+00 -3.27609434e-03 -2.50067753e-01\n",
      "  7.55341209e-01 -3.10768383e+01  5.89618605e-02 -1.44151674e+00\n",
      "  2.85670572e-03] + 33.61492533087147 = b\n",
      "\n",
      "Cross-Validation Error: 0.5104161230846669\n"
     ]
    }
   ],
   "source": [
    "cv_error_list, prop_list, best_index_prop = build_model(features, target, error_list, len(labels))\n",
    "\n",
    "# Xây dựng mô hình với top x tính chất tốt nhất\n",
    "best_properties = features[:, prop_list[best_index_prop]]\n",
    "coefficients, intercept = linear_regression(best_properties, target)\n",
    "\n",
    "# In kết quả\n",
    "print(\"\\n=== Model Building with Top Features ===\")\n",
    "print(\"Best properties:\")\n",
    "for i, prop in enumerate(labels[prop_list[best_index_prop]], start=1):\n",
    "    print(f\"{i}. {prop}\")\n",
    "\n",
    "print(\"\\nModel:\")\n",
    "print(f\"A{coefficients} + {intercept} = b\")\n",
    "\n",
    "print(\"\\nCross-Validation Error:\", cv_error_list[best_index_prop])"
   ]
  },
  {
   "cell_type": "markdown",
   "metadata": {},
   "source": [
    "### Ý tưởng\n",
    "* Chọn ra n tính chất tốt nhất (cho n chạy từ 2 đến 10) rồi chạy `cross_validation()`\n",
    "\n",
    "* Chọn ra bộ tính chất tốt nhất (sai số thấp nhất), các tính chất sẽ được chọn để dựng mô hình\n",
    "\n",
    "* Chạy `linear_regression()` để tìm model dựa trên các tính chất này\n",
    "\n",
    "* Kết quả của mô hình tự xây dựng và của mô hình 11 tính chất:\n",
    "\n",
    "    * Mô hình tự xây dựng: 0.5104161230846669\n",
    "    * Mô hình 11 tính chất: 0.5094507964775307"
   ]
  }
 ],
 "metadata": {
  "kernelspec": {
   "display_name": "Python 3",
   "language": "python",
   "name": "python3"
  },
  "language_info": {
   "codemirror_mode": {
    "name": "ipython",
    "version": 3
   },
   "file_extension": ".py",
   "mimetype": "text/x-python",
   "name": "python",
   "nbconvert_exporter": "python",
   "pygments_lexer": "ipython3",
   "version": "3.11.8"
  }
 },
 "nbformat": 4,
 "nbformat_minor": 2
}
